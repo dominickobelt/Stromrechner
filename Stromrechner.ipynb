{
 "cells": [
  {
   "cell_type": "code",
   "execution_count": 71,
   "id": "a5f74bf1",
   "metadata": {},
   "outputs": [],
   "source": [
    "import os\n",
    "import pandas as pd\n",
    "import requests\n",
    "from bs4 import BeautifulSoup\n",
    "from lxml import etree\n",
    "from urllib.request import urlopen\n",
    "import numpy as np"
   ]
  },
  {
   "cell_type": "code",
   "execution_count": 72,
   "id": "93717b2f",
   "metadata": {},
   "outputs": [],
   "source": [
    "#Funktion, um Anbieter für Gemeinde zu bekommen\n",
    "def get_provider(bfs):\n",
    "    url = 'https://www.strompreis.elcom.admin.ch/municipality/'+str(bfs)\n",
    "    response = requests.get(url)\n",
    "    soup = BeautifulSoup(response.text, 'html.parser')\n",
    "    dom = etree.HTML(str(soup))\n",
    "    anbieter1 = dom.xpath('/html/body/div[1]/div/div[1]/div[1]/div[2]/div/div/a')[0].text\n",
    "    try:\n",
    "        anbieter2 = dom.xpath('/html/body/div[1]/div/div[1]/div[1]/div[2]/div/div/a')[1].text\n",
    "        return anbieter1,anbieter2\n",
    "    except:\n",
    "        return anbieter1,0\n",
    "\n",
    "#Mit diesen Funktionen werden für die Anbieter die unterschiedlichen Wert (Totalkosten + Aufteilung) herausgelesen\n",
    "def get_total(anbieter):\n",
    "    try:\n",
    "        total = tarife[tarife['operatorLabel'] == anbieter]['total'].values[0]\n",
    "    except:\n",
    "        total = np.NaN\n",
    "    return total\n",
    "\n",
    "def get_netznutzung(anbieter):\n",
    "    try:\n",
    "        netznutzung = tarife[tarife['operatorLabel'] == anbieter]['gridusage'].values[0]\n",
    "    except:\n",
    "        netznutzung = np.NaN\n",
    "    return netznutzung\n",
    "\n",
    "def get_energie(anbieter):\n",
    "    try:\n",
    "        energie = tarife[tarife['operatorLabel'] == anbieter]['energy'].values[0]\n",
    "    except:\n",
    "        energie = np.NaN\n",
    "    return energie\n",
    "\n",
    "def get_abgaben_gemeinwesen(anbieter):\n",
    "    try:\n",
    "        abgaben_gemeinwesen = tarife[tarife['operatorLabel'] == anbieter]['charge'].values[0]\n",
    "    except:\n",
    "        abgaben_gemeinwesen = np.NaN\n",
    "    return abgaben_gemeinwesen\n",
    "\n",
    "def get_foerderabgabgen(anbieter):\n",
    "    try:\n",
    "        foerderabgabgen = tarife[tarife['operatorLabel'] == anbieter]['aidfee'].values[0]\n",
    "    except:\n",
    "        foerderabgabgen = np.NaN\n",
    "    return foerderabgabgen\n",
    "\n",
    "#Wenn eine Gemeinde zwei Anbieter hat (mehr als zwei pro Gemeinde gibt's im Aargau bislang nicht) dann wird der\n",
    "#Durchschnittspreis berechnet. Wenn nur 1 Anbieter den entsprechenden Tarif hat, dann wird dieser zurückgegeben.\n",
    "def get_durchschnitt(anbieter1,anbieter2):\n",
    "    if np.isnan(anbieter1):\n",
    "        return anbieter2\n",
    "    elif np.isnan(anbieter2):\n",
    "        return anbieter1\n",
    "    else:\n",
    "        durchschnitt = (anbieter1+anbieter2)/2\n",
    "        return durchschnitt\n",
    "\n",
    "    "
   ]
  },
  {
   "cell_type": "code",
   "execution_count": 82,
   "id": "19e1a091",
   "metadata": {},
   "outputs": [],
   "source": [
    "#Hier wird die Kategorie bestimmt. Letzts Mal: H1,H4 und H8. \n",
    "#Kategorie bestimmen und Programm laufen lassen, dann wird ein CSV mit dem Kategorienamen ausgegeben.\n",
    "category = \"H8\"\n",
    "\n",
    "#Das CSV mit den aktuellen Tarifen. Kann hier herungergeladen werden: https://www.strompreis.elcom.admin.ch/\n",
    "tarife = pd.read_csv(\"tarife-2022.csv\")\n",
    "tarife = tarife[(tarife['product'] == \"standard\") & (tarife['category'] == category)]\n",
    "\n",
    "#Das CSV mit den Gemeinden und Wappen\n",
    "gemeinden = pd.read_csv(\"bfs-wappen.csv\")"
   ]
  },
  {
   "cell_type": "code",
   "execution_count": 83,
   "id": "56c59f83",
   "metadata": {},
   "outputs": [],
   "source": [
    "#Neue Liste mit Minidict machen, für jede Gmeinde BFS, Wappen und Anbieter reinschreiben\n",
    "AG_Anbieter = []\n",
    "\n",
    "for bfs in gemeinden['bfs']:\n",
    "    name = gemeinden[gemeinden['bfs'] == bfs]['Gemeinde'].values[0]\n",
    "    wappen = gemeinden[gemeinden['bfs'] == bfs]['wappen'].values[0]\n",
    "    anbieter1,anbieter2=get_provider(bfs)\n",
    "    mini_dict = {\"BFS\":bfs, \"Gemeinde\":name, \"Wappen\":wappen, \"Anbieter 1\":anbieter1, \"Anbieter 2\":anbieter2}\n",
    "    AG_Anbieter.append(mini_dict)\n",
    "    \n",
    "list_AG_Anbieter = pd.DataFrame(AG_Anbieter)"
   ]
  },
  {
   "cell_type": "code",
   "execution_count": 84,
   "id": "41588a13",
   "metadata": {},
   "outputs": [],
   "source": [
    "#Mit Hilfe der Funktionen die Preise für die jeweiligen Anbieter reinschreiben\n",
    "list_AG_Anbieter['total'] = list_AG_Anbieter['Anbieter 1'].apply(get_total)\n",
    "list_AG_Anbieter['netznutzung'] = list_AG_Anbieter['Anbieter 1'].apply(get_netznutzung)\n",
    "list_AG_Anbieter['energie'] = list_AG_Anbieter['Anbieter 1'].apply(get_energie)\n",
    "list_AG_Anbieter['abgaben_gemeinwesen'] = list_AG_Anbieter['Anbieter 1'].apply(get_abgaben_gemeinwesen)\n",
    "list_AG_Anbieter['foerderabgabgen'] = list_AG_Anbieter['Anbieter 1'].apply(get_foerderabgabgen)"
   ]
  },
  {
   "cell_type": "code",
   "execution_count": 85,
   "id": "911d07cc",
   "metadata": {},
   "outputs": [],
   "source": [
    "list_AG_Anbieter['total2'] = list_AG_Anbieter['Anbieter 2'].apply(get_total)\n",
    "list_AG_Anbieter['netznutzung2'] = list_AG_Anbieter['Anbieter 2'].apply(get_netznutzung)\n",
    "list_AG_Anbieter['energie2'] = list_AG_Anbieter['Anbieter 2'].apply(get_energie)\n",
    "list_AG_Anbieter['abgaben_gemeinwesen2'] = list_AG_Anbieter['Anbieter 2'].apply(get_abgaben_gemeinwesen)\n",
    "list_AG_Anbieter['foerderabgabgen2'] = list_AG_Anbieter['Anbieter 2'].apply(get_foerderabgabgen)"
   ]
  },
  {
   "cell_type": "code",
   "execution_count": 86,
   "id": "d36ec493",
   "metadata": {},
   "outputs": [],
   "source": [
    "#Bereinigen: 0 ersetzen, Teest-Netzbetreiber (Aarau) rauslöschen\n",
    "list_AG_Anbieter=list_AG_Anbieter.replace(0, np.NaN)\n",
    "list_AG_Anbieter=list_AG_Anbieter.replace(\"Test-Netzbetreiber AG\", np.NaN)\n",
    "\n",
    "#Angezeigter Wert berechnen\n",
    "list_AG_Anbieter['angezeigter_wert'] = list_AG_Anbieter.apply(lambda x: get_durchschnitt(x['total'], x['total2']), axis=1)"
   ]
  },
  {
   "cell_type": "code",
   "execution_count": 87,
   "id": "19d6df87",
   "metadata": {},
   "outputs": [],
   "source": [
    "#Resultat in CSV abspeichern für Datawrapper\n",
    "list_AG_Anbieter.to_csv(category+'.csv', index=False)"
   ]
  },
  {
   "cell_type": "markdown",
   "id": "1496e89a",
   "metadata": {},
   "source": [
    "# Für Datawrapper\n",
    "\n",
    "https://app.datawrapper.de/map/7rWX8/publish\n",
    "\n",
    "Das ist der HTML-Code für die Tooletipps. Je nach Zahlengrösse muss der Vergrösserungsfaktor angepasst werden, also z.B. *3.5 mit *4.5 ersetzen (in der letzten Grafik habe ich 3.5 für H1 und 4.5 für H4 benutzt.\n",
    "\n",
    "{{ total!= 0 ? '<h3>':''}}{{ total!= 0 ? anbieter_1:''}}{{ total!= 0 ? '</h3>':''}}{{ total!= 0 ? '<table><tr><td><b>Kosten total</b><b></td><td><b>':''}}{{ total!= 0 ? total:''}}{{ total!= 0 ? ' Rp./kWh</b></td></tr>':''}}{{ total!= 0 ? '<td colspan=\"2\">Aufteilung (Angaben in Rp./kWh):</td><tr><td>Netznutzung</td><td><div style=\"width:':''}}{{ total!= 0 ? netznutzung*3.5 :''}}{{ total!= 0 ? 'px; height:15px; background-color:#1d81a2; color:white; padding:4px 4px 0px 4px; vertical-align:bottom; font-weight:bold; display:inline-block;\"></div><div style=\"width:':''}}{{ total!= 0 ? 80-(netznutzung*3.5):''}}{{ total!= 0 ? 'px; height:15px; background-color:#F2F2F2; color:#1d81a2; vertical-align:bottom; padding:4px 4px 0px 4px; font-weight:bold; display:inline-block;\">':''}}{{ total!= 0 ? FORMAT(netznutzung, \"0.00\"):''}}{{ total!= 0 ? '</div></td></tr>':''}}{{ total!= 0 ? '<tr><td>Energie</td><td><div style=\"width:':''}}{{ total!= 0 ? energie*3.5:''}}{{ total!= 0 ? 'px; height:15px; background-color:#1d81a2; color:white; padding:4px 4px 0px 4px; vertical-align:bottom; font-weight:bold; display:inline-block;\"></div><div style=\"width:':''}}{{ total!= 0 ? 80-(energie*3.5):''}}{{ total!= 0 ? 'px; height:15px; background-color:#F2F2F2; color:#1d81a2; vertical-align:bottom; padding:4px 4px 0px 4px; font-weight:bold; display:inline-block;\">':''}}{{ total!= 0 ? FORMAT(energie, \"0.00\"):''}}{{ total!= 0 ? '</div></td></tr>':''}}{{ total!= 0 ? '<tr><td>Gemeinwesen</td><td><div style=\"width:':''}}{{ total!= 0 ? abgaben_gemeinwesen*3.5:''}}{{ total!= 0 ? 'px; height:15px; background-color:#1d81a2; color:white; padding:4px 4px 0px 4px; vertical-align:bottom; font-weight:bold; display:inline-block;\"></div><div style=\"width:':''}}{{ total!= 0 ? 80-(abgaben_gemeinwesen*3.5):''}}{{ total!= 0 ? 'px; height:15px; background-color:#F2F2F2; color:#1d81a2; vertical-align:bottom; padding:4px 4px 0px 4px; font-weight:bold; display:inline-block;\">':''}}{{ total!= 0 ? FORMAT(abgaben_gemeinwesen, \"0.00\"):''}}{{ total!= 0 ? '</div></td></tr>':''}}{{ total!= 0 ? '<tr><td>Förderabg.</td><td><div style=\"width:':''}}{{ total!= 0 ? foerderabgabgen*3.5:''}}{{ total!= 0 ? 'px; height:15px; background-color:#1d81a2; color:white; padding:4px 4px 0px 4px; vertical-align:bottom; font-weight:bold; display:inline-block;\"></div><div style=\"width:':''}}{{ total!= 0 ? 80-(foerderabgabgen*3.5):''}}{{ total!= 0 ? 'px; height:15px; background-color:#F2F2F2; color:#1d81a2; vertical-align:bottom; padding:4px 4px 0px 4px; font-weight:bold; display:inline-block;\">':''}}{{ total!= 0 ? FORMAT(foerderabgabgen, \"0.00\"):''}}{{ total!= 0 ? '</div></td></tr></table>':''}}\n",
    "{{ total2!= 0 ? '<h3>':''}}{{ total2!= 0 ? anbieter_2:''}}{{ total2!= 0 ? '</h3>':''}}{{ total2!= 0 ? '<table><tr><td><b>Kosten total</b><b></td><td><b>':''}}{{ total2!= 0 ? total2:''}}{{ total2!= 0 ? ' Rp./kWh</b></td></tr>':''}}{{ total2!= 0 ? '<td colspan=\"2\">Aufteilung (Angaben in Rp./kWh):</td><tr><td>Netznutzung</td><td><div style=\"width:':''}}{{ total2!= 0 ? netznutzung2*3.5 :''}}{{ total2!= 0 ? 'px; height:15px; background-color:#1d81a2; color:white; padding:4px 4px 0px 4px; vertical-align:bottom; font-weight:bold; display:inline-block;\"></div><div style=\"width:':''}}{{ total2!= 0 ? 80-(netznutzung2*3.5):''}}{{ total2!= 0 ? 'px; height:15px; background-color:#F2F2F2; color:#1d81a2; vertical-align:bottom; padding:4px 4px 0px 4px; font-weight:bold; display:inline-block;\">':''}}{{ total2!= 0 ? FORMAT(netznutzung2, \"0.00\"):''}}{{ total2!= 0 ? '</div></td></tr>':''}}{{ total2!= 0 ? '<tr><td>Energie</td><td><div style=\"width:':''}}{{ total2!= 0 ? energie2*3.5:''}}{{ total2!= 0 ? 'px; height:15px; background-color:#1d81a2; color:white; padding:4px 4px 0px 4px; vertical-align:bottom; font-weight:bold; display:inline-block;\"></div><div style=\"width:':''}}{{ total2!= 0 ? 80-(energie2*3.5):''}}{{ total2!= 0 ? 'px; height:15px; background-color:#F2F2F2; color:#1d81a2; vertical-align:bottom; padding:4px 4px 0px 4px; font-weight:bold; display:inline-block;\">':''}}{{ total2!= 0 ? FORMAT(energie2, \"0.00\"):''}}{{ total2!= 0 ? '</div></td></tr>':''}}{{ total2!= 0 ? '<tr><td>Gemeinwesen</td><td><div style=\"width:':''}}{{ total2!= 0 ? abgaben_gemeinwesen2*3.5:''}}{{ total2!= 0 ? 'px; height:15px; background-color:#1d81a2; color:white; padding:4px 4px 0px 4px; vertical-align:bottom; font-weight:bold; display:inline-block;\"></div><div style=\"width:':''}}{{ total2!= 0 ? 80-(abgaben_gemeinwesen2*3.5):''}}{{ total2!= 0 ? 'px; height:15px; background-color:#F2F2F2; color:#1d81a2; vertical-align:bottom; padding:4px 4px 0px 4px; font-weight:bold; display:inline-block;\">':''}}{{ total2!= 0 ? FORMAT(abgaben_gemeinwesen, \"0.00\"):''}}{{ total2!= 0 ? '<tr><td>Förderabg.</td><td><div style=\"width:':''}}{{ total2!= 0 ? foerderabgabgen2*3.5:''}}{{ total2!= 0 ? 'px; height:15px; background-color:#1d81a2; color:white; padding:4px 4px 0px 4px; vertical-align:bottom; font-weight:bold; display:inline-block;\"></div><div style=\"width:':''}}{{ total2!= 0 ? 80-(foerderabgabgen2*3.5):''}}{{ total2!= 0 ? 'px; height:15px; background-color:#F2F2F2; color:#1d81a2; vertical-align:bottom; padding:4px 4px 0px 4px; font-weight:bold; display:inline-block;\">':''}}{{ total2!= 0 ? FORMAT(foerderabgabgen2, \"0.00\"):''}}{{ total2!= 0 ? '</div></td></tr></table>':''}}\n",
    "    \n",
    "    \n",
    "##Tabelle mit Tarifen\n",
    "    \n",
    "Bei Description für jeden Tarif die entsprechende Tabelle anpassen, falls sie nicht gleich geblieben ist:\n",
    "    \n",
    "Wählen Sie einen Tarif: H1 /<b> H4 </b>/ H8\n",
    "<br><br>\n",
    "<i>Viele Stromlieferanten haben keinen Einheitspreis für alle Kunden, sondern machen ihre Tarife von der Menge und dem Zeitpunkt des Stromkonsums abhängig. Die Tarifstrukturen können komplex und von Lieferant zu Lieferant unterschiedlich sein. Um trotzdem einen Preisvergleich zu ermöglichen, rechnen wir mit Verbraucherprofilen, die wir vom Strompreisrechner des Bundes übernommen haben.</i>\n",
    "<br><br>\n",
    "<table width=\"100%\"><tr><td colspan=\"2\"><b>H4: 5-Zimmerwohnung mit Elektroherd und Tumbler (ohne Elektroboiler. Gesamtverbrauch pro Jahr von 4'500 kWh, aufgeteilt wie folgt:</b></td></tr>\n",
    "<tr bgcolor=#9ADEDE><td rowspan=\"4\">Winter</td><td>06h-12h: 690 kWh</td></tr>\n",
    "<tr bgcolor=#9ADEDE><td>12h-18h: 630 kWh</td></tr>\n",
    "<tr bgcolor=#9ADEDE><td>18h-22h\t600 kWh</td></tr>\n",
    "<tr bgcolor=#9ADEDE><td>22h-06h\t600 kWh</td></tr>\n",
    "<tr bgcolor=#FEF593><td rowspan=\"4\">Sommer</td>\n",
    "<td>06h-12h\t600 kWh</td></tr>\n",
    "<tr bgcolor=#FEF593><td>12h-18h\t540 kWh</td></tr>\n",
    "<tr bgcolor=#FEF593><td>18h-22h\t500 kWh</td></tr>\n",
    "<tr bgcolor=#FEF593><td>22h-06h\t440 kWh</td></tr></table><br>"
   ]
  },
  {
   "cell_type": "code",
   "execution_count": null,
   "id": "c2600387",
   "metadata": {},
   "outputs": [],
   "source": []
  }
 ],
 "metadata": {
  "kernelspec": {
   "display_name": "Python 3 (ipykernel)",
   "language": "python",
   "name": "python3"
  },
  "language_info": {
   "codemirror_mode": {
    "name": "ipython",
    "version": 3
   },
   "file_extension": ".py",
   "mimetype": "text/x-python",
   "name": "python",
   "nbconvert_exporter": "python",
   "pygments_lexer": "ipython3",
   "version": "3.8.12"
  }
 },
 "nbformat": 4,
 "nbformat_minor": 5
}
